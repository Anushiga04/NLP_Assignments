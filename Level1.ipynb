{
 "cells": [
  {
   "cell_type": "markdown",
   "metadata": {
    "deletable": true,
    "editable": true
   },
   "source": [
    "# NLP - Exploring Text Data"
   ]
  },
  {
   "cell_type": "code",
   "execution_count": 133,
   "metadata": {
    "collapsed": true,
    "deletable": true,
    "editable": true
   },
   "outputs": [],
   "source": [
    "from nltk.tokenize import sent_tokenize,word_tokenize,PunktSentenceTokenizer\n",
    "import difflib as dl\n",
    "import nltk\n",
    "\n"
   ]
  },
  {
   "cell_type": "markdown",
   "metadata": {
    "deletable": true,
    "editable": true
   },
   "source": [
    "# Reading the Text file"
   ]
  },
  {
   "cell_type": "code",
   "execution_count": 96,
   "metadata": {
    "collapsed": false,
    "deletable": true,
    "editable": true
   },
   "outputs": [
    {
     "data": {
      "text/plain": [
       "'Musk was born on June 28, 1971, in Pretoria, Gauteng, South Africa,[27] the son of Maye Musk (née Haldeman), a model and dietician from Regina, Saskatchewan, Canada;[28] and Errol Musk, a South African electromechanical engineer, pilot and sailor. He has a younger brother, Kimbal (born 1972), and a younger sister, Tosca (born 1974).[28][29][30][31] His paternal grandmother was British, and he also has Pennsylvania Dutch ancestry,[32][33] and his maternal grandfather was American, from Minnesota.[34] After his parents divorced in 1980, Musk lived mostly with his father in the suburbs of Pretoria.[32]\\n\\nDuring his childhood he had an interest in reading and often did so for hours at a time.[35]\\n\\nAt What age did Musk got interested in computing? At age 10, he developed an interest in computing with the Commodore VIC-20.[36] He taught himself computer programming at the age of 12, sold the code for a BASIC-based video game he created called Blastar, to a magazine called PC and Office Technology, for approximately $500. [37][38] A web version of the game is available online.[37][39]\\n\\nMusk was severely bullied throughout his childhood, and was once hospitalized when a group of boys threw him down a flight of stairs and then beat him until he lost consciousness.[40]\\n\\nMusk was initially educated at private schools, attending the English-speaking Waterkloof House Preparatory School. \\n\\nMr. Singh helped Musk during his initial days when he was severely bullied during his childhood.\\n\\nMusk later graduated from Pretoria Boys High School and moved to Canada in June 1989, just before his 18th birthday,[41] after obtaining Canadian citizenship through his Canadian-born mother.[42][43] Although at the time Musk had to register to become a Canadian citizen, Bill C-37, which came into law in April of 2009, effectively made his Canadian citizenship retroactive to his birth since he was born in the first generation abroad to a Canadian-born mother. Therefore, with the law change, he is considered to have always been a Canadian citizen by birth.\\n'"
      ]
     },
     "execution_count": 96,
     "metadata": {},
     "output_type": "execute_result"
    }
   ],
   "source": [
    "file = open('/home/anushya/Documents/wilson_doc.txt')\n",
    "text = file.read()\n",
    "text"
   ]
  },
  {
   "cell_type": "markdown",
   "metadata": {
    "deletable": true,
    "editable": true
   },
   "source": [
    "Defining functions for 3 criteria"
   ]
  },
  {
   "cell_type": "code",
   "execution_count": 1,
   "metadata": {
    "collapsed": false,
    "deletable": true,
    "editable": true
   },
   "outputs": [],
   "source": [
    "def count_sentences(text):\n",
    "    sent_count = sent_tokenize(text)\n",
    "    if(len(sent_count) <= 15):\n",
    "        print(\"First condition satified\")\n",
    "    else:\n",
    "        print(\"It is not satisfied\")"
   ]
  },
  {
   "cell_type": "code",
   "execution_count": 2,
   "metadata": {
    "collapsed": false
   },
   "outputs": [
    {
     "ename": "NameError",
     "evalue": "name 'sent_tokenize' is not defined",
     "output_type": "error",
     "traceback": [
      "\u001b[0;31m---------------------------------------------------------------------------\u001b[0m",
      "\u001b[0;31mNameError\u001b[0m                                 Traceback (most recent call last)",
      "\u001b[0;32m<ipython-input-2-f328556b6b53>\u001b[0m in \u001b[0;36m<module>\u001b[0;34m()\u001b[0m\n\u001b[0;32m----> 1\u001b[0;31m \u001b[0;34m[\u001b[0m\u001b[0mlen\u001b[0m\u001b[0;34m(\u001b[0m\u001b[0mword_tokenize\u001b[0m\u001b[0;34m(\u001b[0m\u001b[0msentence\u001b[0m\u001b[0;34m)\u001b[0m\u001b[0;34m)\u001b[0m \u001b[0;32mfor\u001b[0m \u001b[0msentence\u001b[0m \u001b[0;32min\u001b[0m \u001b[0msent_tokenize\u001b[0m\u001b[0;34m(\u001b[0m\u001b[0marticle\u001b[0m\u001b[0;34m)\u001b[0m\u001b[0;34m]\u001b[0m\u001b[0;34m\u001b[0m\u001b[0m\n\u001b[0m",
      "\u001b[0;31mNameError\u001b[0m: name 'sent_tokenize' is not defined"
     ]
    }
   ],
   "source": [
    "[len(word_tokenize(sentence)) for sentence in sent_tokenize(article)]"
   ]
  },
  {
   "cell_type": "code",
   "execution_count": 98,
   "metadata": {
    "collapsed": false,
    "deletable": true,
    "editable": true
   },
   "outputs": [],
   "source": [
    "def count_words(text):\n",
    "    for sentences in sent_count:\n",
    "        sent_word = word_tokenize(sentences)\n",
    "        if(len(sent_word) <= 15):\n",
    "            print(\"Criteria Passed:\",sentences)\n",
    "        else:\n",
    "            continue"
   ]
  },
  {
   "cell_type": "code",
   "execution_count": 99,
   "metadata": {
    "collapsed": false,
    "deletable": true,
    "editable": true
   },
   "outputs": [],
   "source": [
    "def count_letters(text):\n",
    "    word_token = word_tokenize(text)\n",
    "    for words in word_token:\n",
    "        if(len(words) <= 15):\n",
    "            continue\n",
    "        else:\n",
    "            print(words)\n",
    "    "
   ]
  },
  {
   "cell_type": "code",
   "execution_count": 100,
   "metadata": {
    "collapsed": false,
    "deletable": true,
    "editable": true
   },
   "outputs": [
    {
     "name": "stdout",
     "output_type": "stream",
     "text": [
      "electromechanical\n",
      "English-speaking\n"
     ]
    }
   ],
   "source": [
    "count_letters(text)"
   ]
  },
  {
   "cell_type": "code",
   "execution_count": 101,
   "metadata": {
    "collapsed": false,
    "deletable": true,
    "editable": true
   },
   "outputs": [
    {
     "name": "stdout",
     "output_type": "stream",
     "text": [
      "First condition satified\n"
     ]
    }
   ],
   "source": [
    "count_sentences(text)"
   ]
  },
  {
   "cell_type": "code",
   "execution_count": 121,
   "metadata": {
    "collapsed": false,
    "deletable": true,
    "editable": true
   },
   "outputs": [
    {
     "name": "stdout",
     "output_type": "stream",
     "text": [
      "Criteria Passed: [35]\n",
      "\n",
      "At What age did Musk got interested in computing?\n",
      "Criteria Passed: At age 10, he developed an interest in computing with the Commodore VIC-20.\n"
     ]
    }
   ],
   "source": [
    "count_words(text)"
   ]
  },
  {
   "cell_type": "code",
   "execution_count": 105,
   "metadata": {
    "collapsed": false,
    "deletable": true,
    "editable": true
   },
   "outputs": [
    {
     "data": {
      "text/plain": [
       "'Musk was born on June 28, 1971, in Pretoria, Gauteng, South Africa,[27] the son of Maye Musk (née Haldeman), a model and dietician from Regina, Saskatchewan, Canada;[28] and Errol Musk, a South African electromechanical engineer, pilot and sailor. He has a younger brother, Kimbal (born 1972), and a younger sister, Tosca (born 1974).[28][29][30][31] His paternal grandmother was British, and he also has Pennsylvania Dutch ancestry,[32][33] and his maternal grandfather was American, from Minnesota.[34] After his parents divorced in 1980, Musk lived mostly with his father in the suburbs of Pretoria.[32]\\n\\nDuring his childhood he had an interest in reading and often did so for hours at a time.[35]\\n\\nAt What age did Musk got interested in computing?At age 10, he developed an interest in computing with the Commodore VIC-20.[36] He taught himself computer programming at the age of 12, sold the code for a BASIC-based video game he created called Blastar, to a magazine called PC and Office Technology, for approximately $500. [37][38] A web version of the game is available online.[37][39]\\n\\nMusk was severely bullied throughout his childhood, and was once hospitalized when a group of boys threw him down a flight of stairs and then beat him until he lost consciousness.[40]\\n\\nMusk was initially educated at private schools, attending the English-speaking Waterkloof House Preparatory School. \\n\\nMr. Sing helped Musk during his initial days when he was severely bullied during his childhood.\\n\\nMusk later graduated from Pretoria Boys High School and moved to Canada in June 1989, just before his 18th birthday,[41] after obtaining Canadian citizenship through his Canadian-born mother.[42][43] Although at the time Musk had to register to become a Canadian citizen, Bill C-37, which came into law in April of 2009, effectively made his Canadian citizenship retroactive to his birth since he was born in the first generation abroad to a Canadian-born mother. Therefore, with the law change, he is considered to have always been a Canadian citizen by birth.\\n'"
      ]
     },
     "execution_count": 105,
     "metadata": {},
     "output_type": "execute_result"
    }
   ],
   "source": [
    "file_2 = open('/home/anushya/Documents/wilson_doc2.txt')\n",
    "text_2 = file_2.read()\n",
    "text_2"
   ]
  },
  {
   "cell_type": "code",
   "execution_count": 106,
   "metadata": {
    "collapsed": false,
    "deletable": true,
    "editable": true
   },
   "outputs": [
    {
     "name": "stdout",
     "output_type": "stream",
     "text": [
      "First condition satified\n"
     ]
    }
   ],
   "source": [
    "count_sentences(text_2)"
   ]
  },
  {
   "cell_type": "code",
   "execution_count": 107,
   "metadata": {
    "collapsed": false,
    "deletable": true,
    "editable": true
   },
   "outputs": [
    {
     "name": "stdout",
     "output_type": "stream",
     "text": [
      "Criteria Passed: [35]\n",
      "\n",
      "At What age did Musk got interested in computing?\n",
      "Criteria Passed: At age 10, he developed an interest in computing with the Commodore VIC-20.\n"
     ]
    }
   ],
   "source": [
    "count_words(text_2)"
   ]
  },
  {
   "cell_type": "code",
   "execution_count": 108,
   "metadata": {
    "collapsed": false,
    "deletable": true,
    "editable": true
   },
   "outputs": [
    {
     "name": "stdout",
     "output_type": "stream",
     "text": [
      "electromechanical\n",
      "English-speaking\n"
     ]
    }
   ],
   "source": [
    "count_letters(text_2)"
   ]
  },
  {
   "cell_type": "code",
   "execution_count": 119,
   "metadata": {
    "collapsed": false,
    "deletable": true,
    "editable": true
   },
   "outputs": [
    {
     "data": {
      "text/plain": [
       "437"
      ]
     },
     "execution_count": 119,
     "metadata": {},
     "output_type": "execute_result"
    }
   ],
   "source": [
    "len(word_tokenize(text_2))"
   ]
  },
  {
   "cell_type": "code",
   "execution_count": 128,
   "metadata": {
    "collapsed": false,
    "deletable": true,
    "editable": true,
    "scrolled": false
   },
   "outputs": [
    {
     "name": "stdout",
     "output_type": "stream",
     "text": [
      "58 Musk was born on June 28, 1971, in Pretoria, Gauteng, South Africa,[27] the son of Maye Musk (née Haldeman), a model and dietician from Regina, Saskatchewan, Canada;[28] and Errol Musk, a South African electromechanical engineer, pilot and sailor.\n",
      "23 He has a younger brother, Kimbal (born 1972), and a younger sister, Tosca (born 1974).\n",
      "42 [28][29][30][31] His paternal grandmother was British, and he also has Pennsylvania Dutch ancestry,[32][33] and his maternal grandfather was American, from Minnesota.\n",
      "22 [34] After his parents divorced in 1980, Musk lived mostly with his father in the suburbs of Pretoria.\n",
      "22 [32]\n",
      "\n",
      "During his childhood he had an interest in reading and often did so for hours at a time.\n",
      "28 [35]\n",
      "\n",
      "At What age did Musk got interested in computing?At age 10, he developed an interest in computing with the Commodore VIC-20.\n",
      "41 [36] He taught himself computer programming at the age of 12, sold the code for a BASIC-based video game he created called Blastar, to a magazine called PC and Office Technology, for approximately $500.\n",
      "16 [37][38] A web version of the game is available online.\n",
      "39 [37][39]\n",
      "\n",
      "Musk was severely bullied throughout his childhood, and was once hospitalized when a group of boys threw him down a flight of stairs and then beat him until he lost consciousness.\n",
      "19 [40]\n",
      "\n",
      "Musk was initially educated at private schools, attending the English-speaking Waterkloof House Preparatory School.\n",
      "2 Mr.\n",
      "16 Sing helped Musk during his initial days when he was severely bullied during his childhood.\n",
      "34 Musk later graduated from Pretoria Boys High School and moved to Canada in June 1989, just before his 18th birthday,[41] after obtaining Canadian citizenship through his Canadian-born mother.\n",
      "55 [42][43] Although at the time Musk had to register to become a Canadian citizen, Bill C-37, which came into law in April of 2009, effectively made his Canadian citizenship retroactive to his birth since he was born in the first generation abroad to a Canadian-born mother.\n",
      "20 Therefore, with the law change, he is considered to have always been a Canadian citizen by birth.\n"
     ]
    }
   ],
   "source": [
    "for sentences in sent_tokenize(text_2):\n",
    "    word_token = word_tokenize(sentences)\n",
    "    print(len(word_token),sentences)"
   ]
  },
  {
   "cell_type": "code",
   "execution_count": 136,
   "metadata": {
    "collapsed": false,
    "deletable": true,
    "editable": true
   },
   "outputs": [
    {
     "data": {
      "text/plain": [
       "[('Musk', 'NNP'),\n",
       " ('was', 'VBD'),\n",
       " ('born', 'VBN'),\n",
       " ('on', 'IN'),\n",
       " ('June', 'NNP'),\n",
       " ('28', 'CD'),\n",
       " (',', ','),\n",
       " ('1971', 'CD'),\n",
       " (',', ','),\n",
       " ('in', 'IN'),\n",
       " ('Pretoria', 'NNP'),\n",
       " (',', ','),\n",
       " ('Gauteng', 'NNP'),\n",
       " (',', ','),\n",
       " ('South', 'NNP'),\n",
       " ('Africa', 'NNP'),\n",
       " (',', ','),\n",
       " ('[', 'VBD'),\n",
       " ('27', 'CD'),\n",
       " (']', 'IN'),\n",
       " ('the', 'DT'),\n",
       " ('son', 'NN'),\n",
       " ('of', 'IN'),\n",
       " ('Maye', 'NNP'),\n",
       " ('Musk', 'NNP'),\n",
       " ('(', '('),\n",
       " ('née', 'JJ'),\n",
       " ('Haldeman', 'NNP'),\n",
       " (')', ')'),\n",
       " (',', ','),\n",
       " ('a', 'DT'),\n",
       " ('model', 'NN'),\n",
       " ('and', 'CC'),\n",
       " ('dietician', 'JJ'),\n",
       " ('from', 'IN'),\n",
       " ('Regina', 'NNP'),\n",
       " (',', ','),\n",
       " ('Saskatchewan', 'NNP'),\n",
       " (',', ','),\n",
       " ('Canada', 'NNP'),\n",
       " (';', ':'),\n",
       " ('[', 'VBZ'),\n",
       " ('28', 'CD'),\n",
       " (']', 'NN'),\n",
       " ('and', 'CC'),\n",
       " ('Errol', 'NNP'),\n",
       " ('Musk', 'NNP'),\n",
       " (',', ','),\n",
       " ('a', 'DT'),\n",
       " ('South', 'JJ'),\n",
       " ('African', 'JJ'),\n",
       " ('electromechanical', 'JJ'),\n",
       " ('engineer', 'NN'),\n",
       " (',', ','),\n",
       " ('pilot', 'NN'),\n",
       " ('and', 'CC'),\n",
       " ('sailor', 'NN'),\n",
       " ('.', '.'),\n",
       " ('He', 'PRP'),\n",
       " ('has', 'VBZ'),\n",
       " ('a', 'DT'),\n",
       " ('younger', 'JJR'),\n",
       " ('brother', 'NN'),\n",
       " (',', ','),\n",
       " ('Kimbal', 'NNP'),\n",
       " ('(', '('),\n",
       " ('born', 'JJ'),\n",
       " ('1972', 'CD'),\n",
       " (')', ')'),\n",
       " (',', ','),\n",
       " ('and', 'CC'),\n",
       " ('a', 'DT'),\n",
       " ('younger', 'JJR'),\n",
       " ('sister', 'NN'),\n",
       " (',', ','),\n",
       " ('Tosca', 'NNP'),\n",
       " ('(', '('),\n",
       " ('born', 'JJ'),\n",
       " ('1974', 'CD'),\n",
       " (')', ')'),\n",
       " ('.', '.'),\n",
       " ('[', '$'),\n",
       " ('28', 'CD'),\n",
       " (']', 'NNP'),\n",
       " ('[', 'VBD'),\n",
       " ('29', 'CD'),\n",
       " (']', 'NNP'),\n",
       " ('[', 'VBD'),\n",
       " ('30', 'CD'),\n",
       " (']', 'NNP'),\n",
       " ('[', 'VBD'),\n",
       " ('31', 'CD'),\n",
       " (']', 'IN'),\n",
       " ('His', 'PRP$'),\n",
       " ('paternal', 'JJ'),\n",
       " ('grandmother', 'NN'),\n",
       " ('was', 'VBD'),\n",
       " ('British', 'JJ'),\n",
       " (',', ','),\n",
       " ('and', 'CC'),\n",
       " ('he', 'PRP'),\n",
       " ('also', 'RB'),\n",
       " ('has', 'VBZ'),\n",
       " ('Pennsylvania', 'NNP'),\n",
       " ('Dutch', 'NNP'),\n",
       " ('ancestry', 'NN'),\n",
       " (',', ','),\n",
       " ('[', 'VBZ'),\n",
       " ('32', 'CD'),\n",
       " (']', 'NN'),\n",
       " ('[', 'VBD'),\n",
       " ('33', 'CD'),\n",
       " (']', 'NN'),\n",
       " ('and', 'CC'),\n",
       " ('his', 'PRP$'),\n",
       " ('maternal', 'JJ'),\n",
       " ('grandfather', 'NN'),\n",
       " ('was', 'VBD'),\n",
       " ('American', 'JJ'),\n",
       " (',', ','),\n",
       " ('from', 'IN'),\n",
       " ('Minnesota', 'NNP'),\n",
       " ('.', '.'),\n",
       " ('[', 'CC'),\n",
       " ('34', 'CD'),\n",
       " (']', 'NN'),\n",
       " ('After', 'IN'),\n",
       " ('his', 'PRP$'),\n",
       " ('parents', 'NNS'),\n",
       " ('divorced', 'VBN'),\n",
       " ('in', 'IN'),\n",
       " ('1980', 'CD'),\n",
       " (',', ','),\n",
       " ('Musk', 'NNP'),\n",
       " ('lived', 'VBD'),\n",
       " ('mostly', 'RB'),\n",
       " ('with', 'IN'),\n",
       " ('his', 'PRP$'),\n",
       " ('father', 'NN'),\n",
       " ('in', 'IN'),\n",
       " ('the', 'DT'),\n",
       " ('suburbs', 'NN'),\n",
       " ('of', 'IN'),\n",
       " ('Pretoria', 'NNP'),\n",
       " ('.', '.'),\n",
       " ('[', 'CC'),\n",
       " ('32', 'CD'),\n",
       " (']', 'NN'),\n",
       " ('During', 'IN'),\n",
       " ('his', 'PRP$'),\n",
       " ('childhood', 'NN'),\n",
       " ('he', 'PRP'),\n",
       " ('had', 'VBD'),\n",
       " ('an', 'DT'),\n",
       " ('interest', 'NN'),\n",
       " ('in', 'IN'),\n",
       " ('reading', 'NN'),\n",
       " ('and', 'CC'),\n",
       " ('often', 'RB'),\n",
       " ('did', 'VBD'),\n",
       " ('so', 'RB'),\n",
       " ('for', 'IN'),\n",
       " ('hours', 'NNS'),\n",
       " ('at', 'IN'),\n",
       " ('a', 'DT'),\n",
       " ('time', 'NN'),\n",
       " ('.', '.'),\n",
       " ('[', 'VB'),\n",
       " ('35', 'CD'),\n",
       " (']', 'NN'),\n",
       " ('At', 'IN'),\n",
       " ('What', 'WP'),\n",
       " ('age', 'NN'),\n",
       " ('did', 'VBD'),\n",
       " ('Musk', 'NNP'),\n",
       " ('got', 'VBD'),\n",
       " ('interested', 'JJ'),\n",
       " ('in', 'IN'),\n",
       " ('computing', 'VBG'),\n",
       " ('?', '.'),\n",
       " ('At', 'IN'),\n",
       " ('age', 'NN'),\n",
       " ('10', 'CD'),\n",
       " (',', ','),\n",
       " ('he', 'PRP'),\n",
       " ('developed', 'VBD'),\n",
       " ('an', 'DT'),\n",
       " ('interest', 'NN'),\n",
       " ('in', 'IN'),\n",
       " ('computing', 'VBG'),\n",
       " ('with', 'IN'),\n",
       " ('the', 'DT'),\n",
       " ('Commodore', 'NNP'),\n",
       " ('VIC-20', 'NNP'),\n",
       " ('.', '.'),\n",
       " ('[', 'VB'),\n",
       " ('36', 'CD'),\n",
       " (']', 'NN'),\n",
       " ('He', 'PRP'),\n",
       " ('taught', 'VBD'),\n",
       " ('himself', 'PRP'),\n",
       " ('computer', 'NN'),\n",
       " ('programming', 'VBG'),\n",
       " ('at', 'IN'),\n",
       " ('the', 'DT'),\n",
       " ('age', 'NN'),\n",
       " ('of', 'IN'),\n",
       " ('12', 'CD'),\n",
       " (',', ','),\n",
       " ('sold', 'VBD'),\n",
       " ('the', 'DT'),\n",
       " ('code', 'NN'),\n",
       " ('for', 'IN'),\n",
       " ('a', 'DT'),\n",
       " ('BASIC-based', 'JJ'),\n",
       " ('video', 'NN'),\n",
       " ('game', 'NN'),\n",
       " ('he', 'PRP'),\n",
       " ('created', 'VBD'),\n",
       " ('called', 'VBN'),\n",
       " ('Blastar', 'NNP'),\n",
       " (',', ','),\n",
       " ('to', 'TO'),\n",
       " ('a', 'DT'),\n",
       " ('magazine', 'NN'),\n",
       " ('called', 'VBN'),\n",
       " ('PC', 'NN'),\n",
       " ('and', 'CC'),\n",
       " ('Office', 'NNP'),\n",
       " ('Technology', 'NNP'),\n",
       " (',', ','),\n",
       " ('for', 'IN'),\n",
       " ('approximately', 'RB'),\n",
       " ('$', '$'),\n",
       " ('500', 'CD'),\n",
       " ('.', '.'),\n",
       " ('[', 'VB'),\n",
       " ('37', 'CD'),\n",
       " (']', 'NNP'),\n",
       " ('[', 'VBD'),\n",
       " ('38', 'CD'),\n",
       " (']', 'NN'),\n",
       " ('A', 'NNP'),\n",
       " ('web', 'JJ'),\n",
       " ('version', 'NN'),\n",
       " ('of', 'IN'),\n",
       " ('the', 'DT'),\n",
       " ('game', 'NN'),\n",
       " ('is', 'VBZ'),\n",
       " ('available', 'JJ'),\n",
       " ('online', 'NN'),\n",
       " ('.', '.'),\n",
       " ('[', 'CC'),\n",
       " ('37', 'CD'),\n",
       " (']', 'JJ'),\n",
       " ('[', '$'),\n",
       " ('39', 'CD'),\n",
       " (']', 'NNP'),\n",
       " ('Musk', 'NNP'),\n",
       " ('was', 'VBD'),\n",
       " ('severely', 'RB'),\n",
       " ('bullied', 'VBN'),\n",
       " ('throughout', 'IN'),\n",
       " ('his', 'PRP$'),\n",
       " ('childhood', 'NN'),\n",
       " (',', ','),\n",
       " ('and', 'CC'),\n",
       " ('was', 'VBD'),\n",
       " ('once', 'RB'),\n",
       " ('hospitalized', 'VBN'),\n",
       " ('when', 'WRB'),\n",
       " ('a', 'DT'),\n",
       " ('group', 'NN'),\n",
       " ('of', 'IN'),\n",
       " ('boys', 'NNS'),\n",
       " ('threw', 'VBD'),\n",
       " ('him', 'PRP'),\n",
       " ('down', 'RP'),\n",
       " ('a', 'DT'),\n",
       " ('flight', 'NN'),\n",
       " ('of', 'IN'),\n",
       " ('stairs', 'NNS'),\n",
       " ('and', 'CC'),\n",
       " ('then', 'RB'),\n",
       " ('beat', 'VBD'),\n",
       " ('him', 'PRP'),\n",
       " ('until', 'IN'),\n",
       " ('he', 'PRP'),\n",
       " ('lost', 'VBD'),\n",
       " ('consciousness', 'NN'),\n",
       " ('.', '.'),\n",
       " ('[', 'CC'),\n",
       " ('40', 'CD'),\n",
       " (']', 'JJ'),\n",
       " ('Musk', 'NNP'),\n",
       " ('was', 'VBD'),\n",
       " ('initially', 'RB'),\n",
       " ('educated', 'VBN'),\n",
       " ('at', 'IN'),\n",
       " ('private', 'JJ'),\n",
       " ('schools', 'NNS'),\n",
       " (',', ','),\n",
       " ('attending', 'VBG'),\n",
       " ('the', 'DT'),\n",
       " ('English-speaking', 'JJ'),\n",
       " ('Waterkloof', 'NNP'),\n",
       " ('House', 'NNP'),\n",
       " ('Preparatory', 'NNP'),\n",
       " ('School', 'NNP'),\n",
       " ('.', '.'),\n",
       " ('Mr', 'NNP'),\n",
       " ('.', '.'),\n",
       " ('Sing', 'NNP'),\n",
       " ('helped', 'VBD'),\n",
       " ('Musk', 'NNP'),\n",
       " ('during', 'IN'),\n",
       " ('his', 'PRP$'),\n",
       " ('initial', 'JJ'),\n",
       " ('days', 'NNS'),\n",
       " ('when', 'WRB'),\n",
       " ('he', 'PRP'),\n",
       " ('was', 'VBD'),\n",
       " ('severely', 'RB'),\n",
       " ('bullied', 'VBN'),\n",
       " ('during', 'IN'),\n",
       " ('his', 'PRP$'),\n",
       " ('childhood', 'NN'),\n",
       " ('.', '.'),\n",
       " ('Musk', 'NNP'),\n",
       " ('later', 'RB'),\n",
       " ('graduated', 'VBD'),\n",
       " ('from', 'IN'),\n",
       " ('Pretoria', 'NNP'),\n",
       " ('Boys', 'NNP'),\n",
       " ('High', 'NNP'),\n",
       " ('School', 'NNP'),\n",
       " ('and', 'CC'),\n",
       " ('moved', 'VBD'),\n",
       " ('to', 'TO'),\n",
       " ('Canada', 'NNP'),\n",
       " ('in', 'IN'),\n",
       " ('June', 'NNP'),\n",
       " ('1989', 'CD'),\n",
       " (',', ','),\n",
       " ('just', 'RB'),\n",
       " ('before', 'IN'),\n",
       " ('his', 'PRP$'),\n",
       " ('18th', 'CD'),\n",
       " ('birthday', 'NN'),\n",
       " (',', ','),\n",
       " ('[', 'RB'),\n",
       " ('41', 'CD'),\n",
       " (']', 'NNS'),\n",
       " ('after', 'IN'),\n",
       " ('obtaining', 'VBG'),\n",
       " ('Canadian', 'JJ'),\n",
       " ('citizenship', 'NN'),\n",
       " ('through', 'IN'),\n",
       " ('his', 'PRP$'),\n",
       " ('Canadian-born', 'JJ'),\n",
       " ('mother', 'NN'),\n",
       " ('.', '.'),\n",
       " ('[', '$'),\n",
       " ('42', 'CD'),\n",
       " (']', 'NNP'),\n",
       " ('[', 'VBD'),\n",
       " ('43', 'CD'),\n",
       " (']', 'NNS'),\n",
       " ('Although', 'IN'),\n",
       " ('at', 'IN'),\n",
       " ('the', 'DT'),\n",
       " ('time', 'NN'),\n",
       " ('Musk', 'NNP'),\n",
       " ('had', 'VBD'),\n",
       " ('to', 'TO'),\n",
       " ('register', 'VB'),\n",
       " ('to', 'TO'),\n",
       " ('become', 'VB'),\n",
       " ('a', 'DT'),\n",
       " ('Canadian', 'JJ'),\n",
       " ('citizen', 'NN'),\n",
       " (',', ','),\n",
       " ('Bill', 'NNP'),\n",
       " ('C-37', 'NNP'),\n",
       " (',', ','),\n",
       " ('which', 'WDT'),\n",
       " ('came', 'VBD'),\n",
       " ('into', 'IN'),\n",
       " ('law', 'NN'),\n",
       " ('in', 'IN'),\n",
       " ('April', 'NNP'),\n",
       " ('of', 'IN'),\n",
       " ('2009', 'CD'),\n",
       " (',', ','),\n",
       " ('effectively', 'RB'),\n",
       " ('made', 'VBD'),\n",
       " ('his', 'PRP$'),\n",
       " ('Canadian', 'JJ'),\n",
       " ('citizenship', 'NN'),\n",
       " ('retroactive', 'JJ'),\n",
       " ('to', 'TO'),\n",
       " ('his', 'PRP$'),\n",
       " ('birth', 'NN'),\n",
       " ('since', 'IN'),\n",
       " ('he', 'PRP'),\n",
       " ('was', 'VBD'),\n",
       " ('born', 'VBN'),\n",
       " ('in', 'IN'),\n",
       " ('the', 'DT'),\n",
       " ('first', 'JJ'),\n",
       " ('generation', 'NN'),\n",
       " ('abroad', 'RB'),\n",
       " ('to', 'TO'),\n",
       " ('a', 'DT'),\n",
       " ('Canadian-born', 'JJ'),\n",
       " ('mother', 'NN'),\n",
       " ('.', '.'),\n",
       " ('Therefore', 'RB'),\n",
       " (',', ','),\n",
       " ('with', 'IN'),\n",
       " ('the', 'DT'),\n",
       " ('law', 'NN'),\n",
       " ('change', 'NN'),\n",
       " (',', ','),\n",
       " ('he', 'PRP'),\n",
       " ('is', 'VBZ'),\n",
       " ('considered', 'VBN'),\n",
       " ('to', 'TO'),\n",
       " ('have', 'VB'),\n",
       " ('always', 'RB'),\n",
       " ('been', 'VBN'),\n",
       " ('a', 'DT'),\n",
       " ('Canadian', 'JJ'),\n",
       " ('citizen', 'NN'),\n",
       " ('by', 'IN'),\n",
       " ('birth', 'NN'),\n",
       " ('.', '.')]"
      ]
     },
     "execution_count": 136,
     "metadata": {},
     "output_type": "execute_result"
    }
   ],
   "source": [
    "nltk.pos_tag(word_tokenize(text_2))"
   ]
  },
  {
   "cell_type": "markdown",
   "metadata": {
    "collapsed": true,
    "deletable": true,
    "editable": true
   },
   "source": [
    "OBSERVATION:\n",
    "     Tokenizers have their own algorithms to detect abbreviation, in the above documents we have Mr.Singh and Mr.Sing in the second one we have sing after Mr. since it is a verb it treating it as a seperate sentence"
   ]
  },
  {
   "cell_type": "code",
   "execution_count": null,
   "metadata": {
    "collapsed": true,
    "deletable": true,
    "editable": true
   },
   "outputs": [],
   "source": []
  }
 ],
 "metadata": {
  "kernelspec": {
   "display_name": "Python 3",
   "language": "python",
   "name": "python3"
  },
  "language_info": {
   "codemirror_mode": {
    "name": "ipython",
    "version": 3
   },
   "file_extension": ".py",
   "mimetype": "text/x-python",
   "name": "python",
   "nbconvert_exporter": "python",
   "pygments_lexer": "ipython3",
   "version": "3.5.2"
  }
 },
 "nbformat": 4,
 "nbformat_minor": 2
}
