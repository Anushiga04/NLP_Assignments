{
 "cells": [
  {
   "cell_type": "markdown",
   "metadata": {
    "deletable": true,
    "editable": true
   },
   "source": [
    "## Wordnet Similarity"
   ]
  },
  {
   "cell_type": "markdown",
   "metadata": {
    "deletable": true,
    "editable": true
   },
   "source": [
    "### Part - 1\n",
    "   \n",
    "    1. Find the top 5 occuring words(ignoring the stop words) and then find the words most similar to them. Use the extract given below.\n",
    "    \n",
    "    2. For any given word visualize how two words are similar"
   ]
  },
  {
   "cell_type": "markdown",
   "metadata": {
    "deletable": true,
    "editable": true
   },
   "source": [
    "~~~~\n",
    "The Supreme Court ruled last week in the case of Fane Lozman vs the City of Riviera Beach, Florida. They decided that Lozman’s 60-foot, two-story, motorless, rudderless floating home was not a boat or a vessel, and hence should not have been seized under maritime law and destroyed by the city.\n",
    "\n",
    "With the line between house and boat a little bit clearer, reader Steve asked us to clarify something else: “What defines a boat, versus a ship?”\n",
    "\n",
    "One of the quickest ways to reveal yourself as a landlubber is to refer to a ship as a boat, but there’s no absolute distinction between the two, and even experienced mariners rely on local custom and usage to differentiate them. \n",
    "\n",
    "Back in the Age of Sail, a ship was pretty well defined as a vessel with three or more square rigged masts. As different methods of power generation replaced wind and sail, the ships of old became more specifically known as “sailing ships,” and the usage of ship broadened to cover a wide, ill-defined variety of vessels. \n",
    "\n",
    "One thing that sets a ship apart from a boat is size. According the U.S. Naval Institute, a boat, generally speaking, is small enough to be carried aboard a larger vessel, and a vessel large enough to carry a smaller one is a ship. Or, as Steve says his Navy Lieutenant father put it to him, “You can put a boat on a ship, but you can’t put a ship on a boat.”\n",
    "\n",
    "Now, this Naval convention is a good rule of thumb most of the time, but there are a few exceptions, among both naval and civilian vessels. Some yachts, ferries, tug boats, fishing boats, police boats, etc. can carry small lifeboats or dinghies, but they usually don’t graduate to ship status because of that. On the other hand, a large container ship or the USS Cole can be carried aboard an even bigger ship without getting demoted to a boat. \n",
    "\n",
    "The U.S. Navy seems to want to have it both ways with their submarines. One component of each vessel’s official name is USS—that is, United States Ship—but seamen, the Naval Institute says, usually refer to submarines in general as boats, regardless of size. \n",
    "~~~~\n"
   ]
  },
  {
   "cell_type": "code",
   "execution_count": 142,
   "metadata": {
    "collapsed": false,
    "deletable": true,
    "editable": true
   },
   "outputs": [],
   "source": [
    "import nltk\n",
    "from nltk.tokenize import word_tokenize,sent_tokenize\n",
    "from nltk.corpus import stopwords\n",
    "from collections import Counter\n",
    "from itertools import product\n",
    "from nltk.corpus import wordnet as wn\n",
    "import networkx as nx\n",
    "import pylab as plt\n",
    "from nltk.stem.wordnet import WordNetLemmatizer\n",
    "import matplotlib.pyplot as plt"
   ]
  },
  {
   "cell_type": "markdown",
   "metadata": {
    "collapsed": true,
    "deletable": true,
    "editable": true
   },
   "source": [
    "# Part - 1"
   ]
  },
  {
   "cell_type": "code",
   "execution_count": 52,
   "metadata": {
    "collapsed": false,
    "deletable": true,
    "editable": true
   },
   "outputs": [],
   "source": [
    "file = open('/home/anushya/Documents/us_navy.txt')\n",
    "text = file.read()"
   ]
  },
  {
   "cell_type": "code",
   "execution_count": 227,
   "metadata": {
    "collapsed": false,
    "deletable": true,
    "editable": true
   },
   "outputs": [],
   "source": [
    "#seperating the stop words\n",
    "stop_words = set(stopwords.words(\"english\"))\n",
    "word_token = word_tokenize(text)\n",
    "stop_words.update([',','.',':','?'])"
   ]
  },
  {
   "cell_type": "code",
   "execution_count": 158,
   "metadata": {
    "collapsed": false,
    "deletable": true,
    "editable": true
   },
   "outputs": [
    {
     "data": {
      "text/plain": [
       "['The',\n",
       " 'Supreme',\n",
       " 'Court',\n",
       " 'ruled',\n",
       " 'last',\n",
       " 'week',\n",
       " 'case',\n",
       " 'Fane',\n",
       " 'Lozman',\n",
       " 'v',\n",
       " 'City',\n",
       " 'Riviera',\n",
       " 'Beach',\n",
       " 'Florida',\n",
       " 'They',\n",
       " 'decided',\n",
       " 'Lozman’s',\n",
       " '60-foot',\n",
       " 'two-story',\n",
       " 'motorless',\n",
       " 'rudderless',\n",
       " 'floating',\n",
       " 'home',\n",
       " 'boat',\n",
       " 'vessel',\n",
       " 'hence',\n",
       " 'seized',\n",
       " 'maritime',\n",
       " 'law',\n",
       " 'destroyed',\n",
       " 'city',\n",
       " 'With',\n",
       " 'line',\n",
       " 'house',\n",
       " 'boat',\n",
       " 'little',\n",
       " 'bit',\n",
       " 'clearer',\n",
       " 'reader',\n",
       " 'Steve',\n",
       " 'asked',\n",
       " 'u',\n",
       " 'clarify',\n",
       " 'something',\n",
       " 'else',\n",
       " '“What',\n",
       " 'defines',\n",
       " 'boat',\n",
       " 'versus',\n",
       " 'ship',\n",
       " '”',\n",
       " 'One',\n",
       " 'quickest',\n",
       " 'way',\n",
       " 'reveal',\n",
       " 'landlubber',\n",
       " 'refer',\n",
       " 'ship',\n",
       " 'boat',\n",
       " 'there’s',\n",
       " 'absolute',\n",
       " 'distinction',\n",
       " 'two',\n",
       " 'even',\n",
       " 'experienced',\n",
       " 'mariner',\n",
       " 'rely',\n",
       " 'local',\n",
       " 'custom',\n",
       " 'usage',\n",
       " 'differentiate',\n",
       " 'Back',\n",
       " 'Age',\n",
       " 'Sail',\n",
       " 'ship',\n",
       " 'pretty',\n",
       " 'well',\n",
       " 'defined',\n",
       " 'vessel',\n",
       " 'three',\n",
       " 'square',\n",
       " 'rigged',\n",
       " 'mast',\n",
       " 'As',\n",
       " 'different',\n",
       " 'method',\n",
       " 'power',\n",
       " 'generation',\n",
       " 'replaced',\n",
       " 'wind',\n",
       " 'sail',\n",
       " 'ship',\n",
       " 'old',\n",
       " 'became',\n",
       " 'specifically',\n",
       " 'known',\n",
       " '“sailing',\n",
       " 'ship',\n",
       " '”',\n",
       " 'usage',\n",
       " 'ship',\n",
       " 'broadened',\n",
       " 'cover',\n",
       " 'wide',\n",
       " 'ill-defined',\n",
       " 'variety',\n",
       " 'vessel',\n",
       " 'One',\n",
       " 'thing',\n",
       " 'set',\n",
       " 'ship',\n",
       " 'apart',\n",
       " 'boat',\n",
       " 'size',\n",
       " 'According',\n",
       " 'U.S',\n",
       " 'Naval',\n",
       " 'Institute',\n",
       " 'boat',\n",
       " 'generally',\n",
       " 'speaking',\n",
       " 'small',\n",
       " 'enough',\n",
       " 'carried',\n",
       " 'aboard',\n",
       " 'larger',\n",
       " 'vessel',\n",
       " 'vessel',\n",
       " 'large',\n",
       " 'enough',\n",
       " 'carry',\n",
       " 'smaller',\n",
       " 'one',\n",
       " 'ship',\n",
       " 'Or',\n",
       " 'Steve',\n",
       " 'say',\n",
       " 'Navy',\n",
       " 'Lieutenant',\n",
       " 'father',\n",
       " 'put',\n",
       " '“You',\n",
       " 'put',\n",
       " 'boat',\n",
       " 'ship',\n",
       " 'can’t',\n",
       " 'put',\n",
       " 'ship',\n",
       " 'boat.”',\n",
       " 'Now',\n",
       " 'Naval',\n",
       " 'convention',\n",
       " 'good',\n",
       " 'rule',\n",
       " 'thumb',\n",
       " 'time',\n",
       " 'exception',\n",
       " 'among',\n",
       " 'naval',\n",
       " 'civilian',\n",
       " 'vessel',\n",
       " 'Some',\n",
       " 'yacht',\n",
       " 'ferry',\n",
       " 'tug',\n",
       " 'boat',\n",
       " 'fishing',\n",
       " 'boat',\n",
       " 'police',\n",
       " 'boat',\n",
       " 'etc',\n",
       " 'carry',\n",
       " 'small',\n",
       " 'lifeboat',\n",
       " 'dinghy',\n",
       " 'usually',\n",
       " 'don’t',\n",
       " 'graduate',\n",
       " 'ship',\n",
       " 'status',\n",
       " 'On',\n",
       " 'hand',\n",
       " 'large',\n",
       " 'container',\n",
       " 'ship',\n",
       " 'USS',\n",
       " 'Cole',\n",
       " 'carried',\n",
       " 'aboard',\n",
       " 'even',\n",
       " 'bigger',\n",
       " 'ship',\n",
       " 'without',\n",
       " 'getting',\n",
       " 'demoted',\n",
       " 'boat',\n",
       " 'The',\n",
       " 'U.S.',\n",
       " 'Navy',\n",
       " 'seems',\n",
       " 'want',\n",
       " 'way',\n",
       " 'submarine',\n",
       " 'One',\n",
       " 'component',\n",
       " 'vessel’s',\n",
       " 'official',\n",
       " 'name',\n",
       " 'USS—that',\n",
       " 'United',\n",
       " 'States',\n",
       " 'Ship—but',\n",
       " 'seaman',\n",
       " 'Naval',\n",
       " 'Institute',\n",
       " 'say',\n",
       " 'usually',\n",
       " 'refer',\n",
       " 'submarine',\n",
       " 'general',\n",
       " 'boat',\n",
       " 'regardless',\n",
       " 'size']"
      ]
     },
     "execution_count": 158,
     "metadata": {},
     "output_type": "execute_result"
    }
   ],
   "source": [
    "#lemmantizing the text\n",
    "filtered_sentence = []\n",
    "for w in word_token:\n",
    "    if w not in stop_words:\n",
    "        filtered_sentence.append(wordnet_lemmatizer.lemmatize(w))\n",
    "filtered_sentence"
   ]
  },
  {
   "cell_type": "code",
   "execution_count": 228,
   "metadata": {
    "collapsed": false,
    "deletable": true,
    "editable": true
   },
   "outputs": [
    {
     "data": {
      "text/plain": [
       "['ship', 'boat', 'vessel', 'put', 'Naval']"
      ]
     },
     "execution_count": 228,
     "metadata": {},
     "output_type": "execute_result"
    }
   ],
   "source": [
    "#Finding most common words in the document using Freqdist\n",
    "wordnet_lemmatizer = WordNetLemmatizer()\n",
    "fdist = nltk.FreqDist(filtered_sentence)\n",
    "list_1 = []\n",
    "for word, frequency in fdist.most_common(5):\n",
    "    list_1.append(wordnet_lemmatizer.lemmatize(word))\n",
    "list_1"
   ]
  },
  {
   "cell_type": "code",
   "execution_count": 229,
   "metadata": {
    "collapsed": false,
    "deletable": true,
    "editable": true
   },
   "outputs": [
    {
     "data": {
      "text/plain": [
       "[('ship', 13), ('boat', 12), ('vessel', 6), ('put', 3), ('Naval', 3)]"
      ]
     },
     "execution_count": 229,
     "metadata": {},
     "output_type": "execute_result"
    }
   ],
   "source": [
    "#Finding common words using counter\n",
    "common_words = Counter(filtered_sentence).most_common(5)\n",
    "common_words"
   ]
  },
  {
   "cell_type": "code",
   "execution_count": 219,
   "metadata": {
    "collapsed": false,
    "deletable": true,
    "editable": true
   },
   "outputs": [
    {
     "data": {
      "text/plain": [
       "[Synset('ship.n.01'),\n",
       " Synset('transport.v.04'),\n",
       " Synset('ship.v.02'),\n",
       " Synset('embark.v.01'),\n",
       " Synset('ship.v.04'),\n",
       " Synset('ship.v.05')]"
      ]
     },
     "execution_count": 219,
     "metadata": {},
     "output_type": "execute_result"
    }
   ],
   "source": [
    "synonyms = wn.synsets('ship')\n",
    "synonyms"
   ]
  },
  {
   "cell_type": "code",
   "execution_count": 230,
   "metadata": {
    "collapsed": false,
    "deletable": true,
    "editable": true
   },
   "outputs": [
    {
     "name": "stdout",
     "output_type": "stream",
     "text": [
      "(0.9090909090909091, 'ship', 'yacht')\n",
      "(0.9565217391304348, 'boat', 'ferry')\n",
      "(0.7142857142857143, 'vessel', 'small')\n",
      "(0.375, 'put', 'speaking')\n"
     ]
    }
   ],
   "source": [
    "#Finding the similarity of common word with the words in content\n",
    "for word1 in list_1:\n",
    "    similarity = []\n",
    "    for word2 in filtered_sentence:\n",
    "        wordFromList1 = wn.synsets(word1)\n",
    "        wordFromList2 = wn.synsets(word2)\n",
    "        if wordFromList1 and wordFromList2:\n",
    "            s = wordFromList1[0].wup_similarity(wordFromList2[0])\n",
    "            if (s != None) & (s != 1):\n",
    "                similarity.append((s,word1,word2))\n",
    "    if(len(similarity)!= 0):\n",
    "        print(max(similarity))"
   ]
  },
  {
   "cell_type": "markdown",
   "metadata": {
    "deletable": true,
    "editable": true
   },
   "source": [
    "# PART - 2"
   ]
  },
  {
   "cell_type": "code",
   "execution_count": 221,
   "metadata": {
    "collapsed": true,
    "deletable": true,
    "editable": true
   },
   "outputs": [],
   "source": [
    "#Function for plotting graph\n",
    "def closure_graph(synset, fn):\n",
    "    seen = set()\n",
    "    graph = nx.DiGraph()\n",
    "\n",
    "    def recurse(s):\n",
    "        if not s in seen:\n",
    "            seen.add(s)\n",
    "            graph.add_node(s.name())\n",
    "            for s1 in fn(s):\n",
    "                graph.add_node(s1.name())\n",
    "                graph.add_edge(s.name(), s1.name())\n",
    "                recurse(s1)\n",
    "\n",
    "    recurse(synset)\n",
    "    return graph"
   ]
  },
  {
   "cell_type": "markdown",
   "metadata": {
    "deletable": true,
    "editable": true
   },
   "source": [
    "Visualizing similarities using networkx graph"
   ]
  },
  {
   "cell_type": "code",
   "execution_count": 222,
   "metadata": {
    "collapsed": false,
    "deletable": true,
    "editable": true
   },
   "outputs": [
    {
     "data": {
      "image/png": "[encoded data removed]",
      "text/plain": [
       "<matplotlib.figure.Figure at 0x7f63f93172e8>"
      ]
     },
     "metadata": {},
     "output_type": "display_data"
    }
   ],
   "source": [
    "vessel_synset = wn.synset('boat.n.01')\n",
    "graph = closure_graph(vessel_synset,lambda s: s.hypernyms())\n",
    "nx.draw_networkx(graph, nx.spectral_layout(graph), with_labels = True)\n",
    "plt.show()"
   ]
  },
  {
   "cell_type": "code",
   "execution_count": 223,
   "metadata": {
    "collapsed": false,
    "deletable": true,
    "editable": true
   },
   "outputs": [
    {
     "data": {
      "image/png": "[encoded data removed]",
      "text/plain": [
       "<matplotlib.figure.Figure at 0x7f63f8a76c50>"
      ]
     },
     "metadata": {},
     "output_type": "display_data"
    }
   ],
   "source": [
    "vessel_synset = wn.synset('ferry.n.01')\n",
    "graph = closure_graph(vessel_synset,lambda s: s.hypernyms())\n",
    "#nx.drawing.draw_graphviz(graph)\n",
    "nx.draw_networkx(graph, nx.spectral_layout(graph), with_labels = True)\n",
    "plt.show()"
   ]
  }
 ],
 "metadata": {
  "kernelspec": {
   "display_name": "Python 3",
   "language": "python",
   "name": "python3"
  },
  "language_info": {
   "codemirror_mode": {
    "name": "ipython",
    "version": 3
   },
   "file_extension": ".py",
   "mimetype": "text/x-python",
   "name": "python",
   "nbconvert_exporter": "python",
   "pygments_lexer": "ipython3",
   "version": "3.5.2"
  }
 },
 "nbformat": 4,
 "nbformat_minor": 2
}
